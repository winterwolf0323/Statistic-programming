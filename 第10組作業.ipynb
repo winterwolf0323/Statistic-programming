{
  "nbformat": 4,
  "nbformat_minor": 0,
  "metadata": {
    "colab": {
      "provenance": [],
      "include_colab_link": true
    },
    "kernelspec": {
      "name": "python3",
      "display_name": "Python 3"
    },
    "language_info": {
      "name": "python"
    }
  },
  "cells": [
    {
      "cell_type": "markdown",
      "metadata": {
        "id": "view-in-github",
        "colab_type": "text"
      },
      "source": [
        "<a href=\"https://colab.research.google.com/github/winterwolf0323/Statistic-programming/blob/main/%E7%AC%AC10%E7%B5%84%E4%BD%9C%E6%A5%AD.ipynb\" target=\"_parent\"><img src=\"https://colab.research.google.com/assets/colab-badge.svg\" alt=\"Open In Colab\"/></a>"
      ]
    },
    {
      "cell_type": "markdown",
      "source": [
        "# 作業繳交資訊\n",
        "#### 請同學將作業下載成「第 n 組作業.ipynb」後上傳至[python作業繳交區表單](https://forms.gle/H2XP3vj8qhjN3rhX9)\n",
        "#### 每組只需上傳1份\n",
        "#### 作業可以討論，但請勿抄襲（借別人抄跟抄別人的都連坐罰）"
      ],
      "metadata": {
        "id": "2sXMHQC3CLKz"
      }
    },
    {
      "cell_type": "markdown",
      "source": [
        "# 分組資訊\n",
        "## 組別：10\n",
        "## 主題：變數:Industry  選項:Utilities\n",
        "## 組員名單（學號/姓名）：\n",
        "1.412351249 王子宸\n",
        "2.412351081 詹祈賢\n",
        "3.412351562 謝庭睿\n",
        "4.412351574 葉庭熙"
      ],
      "metadata": {
        "id": "l_UxAIKudmG7"
      }
    },
    {
      "cell_type": "markdown",
      "source": [
        "# 資料集說明\n",
        "資料集來源：[ESG & Financial Performance Dataset](https://www.kaggle.com/datasets/shriyashjagtap/esg-and-financial-performance-dataset)\n",
        "\n",
        "欄位名稱及資料型態\n",
        "1. 公司代碼(CompanyID)：Object\n",
        "2. 產業(Industry)：Object\n",
        "3. 所在地區(Region)：Object\n",
        "4. 資料年份(Year)：int\n",
        "5. 年收入_百萬美元(Revenue)：float\n",
        "6. 邊際利潤(ProfitMargin)：float\n",
        "7. 市值_百萬美元(MarketCap)：float\n",
        "8. 年收成長率(GrowthRate)：float\n",
        "9. ESG總得分(ESG_Overall)：float\n",
        "10. 永續環境(ESG_Environmental)：float\n",
        "11. 社會責任(ESG_Social)：float\n",
        "12. 公司治理(ESG_Governance)：float\n",
        "13. 二氧化碳排放量(CarbonEmissions)：float\n",
        "14. 用水量(WaterUsage)：float\n",
        "15. 能源消費(EnergyConsumption)：float"
      ],
      "metadata": {
        "id": "hZaYcF9DZlEe"
      }
    },
    {
      "cell_type": "markdown",
      "source": [
        "# 第一題、匯入資料集(17% = 4% + 4% + 9%)\n",
        "#### (1)利用input指令讓使用者自行輸入已共享google試算表的連結代碼（變數名稱為ID）以取得後續資料\n",
        "#### (2)將抓取google試算表的下載網址定義成一個字串變數(Filename)\n",
        "#### (3)利用pandas中的read_excel分別讀入「Financial_Data」、「ESG_Score」、「OTHERS」三張頁籤的資料（工作表名稱即為資料集的變數名稱）"
      ],
      "metadata": {
        "id": "VDB5WfN3jMBc"
      }
    },
    {
      "cell_type": "code",
      "source": [
        "import pandas as pd\n",
        "\n",
        "# (1) 讓使用者輸入 Google 試算表代碼\n",
        "ID = input(\"請輸入 Google 試算表的連結代碼：\")\n",
        "\n",
        "# (2) 組成下載 Excel 檔案的網址\n",
        "Filename = f\"https://docs.google.com/spreadsheets/d/{ID}/export?format=xlsx\"\n",
        "\n",
        "# (3) 讀取三個工作表的資料\n",
        "Financial_Data = pd.read_excel(Filename, sheet_name=\"Financial_Data\")\n",
        "ESG_Score = pd.read_excel(Filename, sheet_name=\"ESG_Score\")\n",
        "OTHERS = pd.read_excel(Filename, sheet_name=\"OTHERS\")\n",
        "\n",
        "# 確認是否正確讀入\n",
        "print(Financial_Data.head())\n",
        "print(ESG_Score.head())\n",
        "print(OTHERS.head())"
      ],
      "metadata": {
        "colab": {
          "base_uri": "https://localhost:8080/"
        },
        "id": "zoV7Yo2lOv7U",
        "outputId": "3013184b-3f97-4912-87e4-6aebcb787661"
      },
      "execution_count": null,
      "outputs": [
        {
          "output_type": "stream",
          "name": "stdout",
          "text": [
            "請輸入 Google 試算表的連結代碼：1Yrm5_zrdzaXqSA3vjmJI3671_enijsbWynli9IuFpsE\n",
            "   CompanyID CompanyName   Industry   Region  Year  Revenue  ProfitMargin  \\\n",
            "0         17  Company_17  Utilities  Oceania  2015   3577.1          12.7   \n",
            "1         17  Company_17  Utilities  Oceania  2016   3460.1          13.0   \n",
            "2         17  Company_17  Utilities  Oceania  2017   3855.5          12.2   \n",
            "3         17  Company_17  Utilities  Oceania  2018   3910.5          13.4   \n",
            "4         17  Company_17  Utilities  Oceania  2019   4023.2          17.2   \n",
            "\n",
            "   MarketCap  GrowthRate  \n",
            "0     3876.1         NaN  \n",
            "1     5855.9        -3.3  \n",
            "2     4729.2        11.4  \n",
            "3     4504.2         1.4  \n",
            "4     9379.8         2.9  \n",
            "   CompanyID CompanyName   Industry   Region  Year  ESG_Overall  \\\n",
            "0         17  Company_17  Utilities  Oceania  2015         62.9   \n",
            "1         17  Company_17  Utilities  Oceania  2016         63.8   \n",
            "2         17  Company_17  Utilities  Oceania  2017         64.7   \n",
            "3         17  Company_17  Utilities  Oceania  2018         65.2   \n",
            "4         17  Company_17  Utilities  Oceania  2019         65.8   \n",
            "\n",
            "   ESG_Environmental  ESG_Social  ESG_Governance  \n",
            "0               55.9        87.3            45.4  \n",
            "1               57.5        87.7            46.1  \n",
            "2               59.5        87.0            47.7  \n",
            "3               59.6        89.8            46.2  \n",
            "4               61.4        88.2            47.6  \n",
            "   CompanyID CompanyName   Industry   Region  Year  CarbonEmissions  \\\n",
            "0         17  Company_17  Utilities  Oceania  2015        2314884.0   \n",
            "1         17  Company_17  Utilities  Oceania  2016        2207551.8   \n",
            "2         17  Company_17  Utilities  Oceania  2017        2416031.1   \n",
            "3         17  Company_17  Utilities  Oceania  2018        2448835.7   \n",
            "4         17  Company_17  Utilities  Oceania  2019        2478297.7   \n",
            "\n",
            "   WaterUsage  EnergyConsumption  \n",
            "0   1446802.5         23148840.2  \n",
            "1   1379719.9         22075517.8  \n",
            "2   1510019.5         24160311.5  \n",
            "3   1530522.3         24488357.2  \n",
            "4   1548936.1         24782977.2  \n"
          ]
        }
      ]
    },
    {
      "cell_type": "markdown",
      "source": [
        "# 第二題、合併資料集（用pd.merge 或 pd.concat）(5%)\n",
        "#### 請將上面三個資料集（Financial_Data、ESG_Score、OTHERS）合併成一個資料集(Company_ESG)"
      ],
      "metadata": {
        "id": "2n7646ayoJts"
      }
    },
    {
      "cell_type": "code",
      "source": [
        "Company_ESG = Financial_Data.merge(ESG_Score, on=\"CompanyID\").merge(OTHERS, on=\"CompanyID\")\n",
        "print(Company_ESG.head())"
      ],
      "metadata": {
        "colab": {
          "base_uri": "https://localhost:8080/"
        },
        "id": "RmOV40jecU2S",
        "outputId": "c93e325e-73c0-415a-c564-9061e2c0cd5d"
      },
      "execution_count": null,
      "outputs": [
        {
          "output_type": "stream",
          "name": "stdout",
          "text": [
            "   CompanyID CompanyName_x Industry_x Region_x  Year_x  Revenue  ProfitMargin  \\\n",
            "0         17    Company_17  Utilities  Oceania    2015   3577.1          12.7   \n",
            "1         17    Company_17  Utilities  Oceania    2015   3577.1          12.7   \n",
            "2         17    Company_17  Utilities  Oceania    2015   3577.1          12.7   \n",
            "3         17    Company_17  Utilities  Oceania    2015   3577.1          12.7   \n",
            "4         17    Company_17  Utilities  Oceania    2015   3577.1          12.7   \n",
            "\n",
            "   MarketCap  GrowthRate CompanyName_y  ... ESG_Environmental ESG_Social  \\\n",
            "0     3876.1         NaN    Company_17  ...              55.9       87.3   \n",
            "1     3876.1         NaN    Company_17  ...              55.9       87.3   \n",
            "2     3876.1         NaN    Company_17  ...              55.9       87.3   \n",
            "3     3876.1         NaN    Company_17  ...              55.9       87.3   \n",
            "4     3876.1         NaN    Company_17  ...              55.9       87.3   \n",
            "\n",
            "   ESG_Governance  CompanyName   Industry   Region  Year CarbonEmissions  \\\n",
            "0            45.4   Company_17  Utilities  Oceania  2015       2314884.0   \n",
            "1            45.4   Company_17  Utilities  Oceania  2016       2207551.8   \n",
            "2            45.4   Company_17  Utilities  Oceania  2017       2416031.1   \n",
            "3            45.4   Company_17  Utilities  Oceania  2018       2448835.7   \n",
            "4            45.4   Company_17  Utilities  Oceania  2019       2478297.7   \n",
            "\n",
            "  WaterUsage EnergyConsumption  \n",
            "0  1446802.5        23148840.2  \n",
            "1  1379719.9        22075517.8  \n",
            "2  1510019.5        24160311.5  \n",
            "3  1530522.3        24488357.2  \n",
            "4  1548936.1        24782977.2  \n",
            "\n",
            "[5 rows x 24 columns]\n"
          ]
        }
      ]
    },
    {
      "cell_type": "markdown",
      "source": [
        "# 第三題、確認資料型態(10%)\n",
        "#### 請用info()確認「資料集Company_ESG」的資料型態是否符合上述資料集說明中的定義，如果不符合，請轉成適合的型別，再存回「資料集Company_ESG」中。"
      ],
      "metadata": {
        "id": "vxBd5z6appiD"
      }
    },
    {
      "cell_type": "code",
      "source": [
        "Company_ESG.info"
      ],
      "metadata": {
        "colab": {
          "base_uri": "https://localhost:8080/",
          "height": 203
        },
        "id": "hbMm69ZoeAY6",
        "outputId": "f3c1f67b-44d4-42f7-84c0-da7649eb440f"
      },
      "execution_count": null,
      "outputs": [
        {
          "output_type": "execute_result",
          "data": {
            "text/plain": [
              "<bound method DataFrame.info of         CompanyID CompanyName_x Industry_x Region_x  Year_x  Revenue  \\\n",
              "0              17    Company_17  Utilities  Oceania    2015   3577.1   \n",
              "1              17    Company_17  Utilities  Oceania    2015   3577.1   \n",
              "2              17    Company_17  Utilities  Oceania    2015   3577.1   \n",
              "3              17    Company_17  Utilities  Oceania    2015   3577.1   \n",
              "4              17    Company_17  Utilities  Oceania    2015   3577.1   \n",
              "...           ...           ...        ...      ...     ...      ...   \n",
              "142412        997   Company_997  Utilities   Africa    2025    642.9   \n",
              "142413        997   Company_997  Utilities   Africa    2025    642.9   \n",
              "142414        997   Company_997  Utilities   Africa    2025    642.9   \n",
              "142415        997   Company_997  Utilities   Africa    2025    642.9   \n",
              "142416        997   Company_997  Utilities   Africa    2025    642.9   \n",
              "\n",
              "        ProfitMargin  MarketCap  GrowthRate CompanyName_y  ...  \\\n",
              "0               12.7     3876.1         NaN    Company_17  ...   \n",
              "1               12.7     3876.1         NaN    Company_17  ...   \n",
              "2               12.7     3876.1         NaN    Company_17  ...   \n",
              "3               12.7     3876.1         NaN    Company_17  ...   \n",
              "4               12.7     3876.1         NaN    Company_17  ...   \n",
              "...              ...        ...         ...           ...  ...   \n",
              "142412          10.2      818.5         1.3   Company_997  ...   \n",
              "142413          10.2      818.5         1.3   Company_997  ...   \n",
              "142414          10.2      818.5         1.3   Company_997  ...   \n",
              "142415          10.2      818.5         1.3   Company_997  ...   \n",
              "142416          10.2      818.5         1.3   Company_997  ...   \n",
              "\n",
              "       ESG_Environmental ESG_Social  ESG_Governance  CompanyName   Industry  \\\n",
              "0                   55.9       87.3            45.4   Company_17  Utilities   \n",
              "1                   55.9       87.3            45.4   Company_17  Utilities   \n",
              "2                   55.9       87.3            45.4   Company_17  Utilities   \n",
              "3                   55.9       87.3            45.4   Company_17  Utilities   \n",
              "4                   55.9       87.3            45.4   Company_17  Utilities   \n",
              "...                  ...        ...             ...          ...        ...   \n",
              "142412              49.5       91.4            59.2  Company_997  Utilities   \n",
              "142413              49.5       91.4            59.2  Company_997  Utilities   \n",
              "142414              49.5       91.4            59.2  Company_997  Utilities   \n",
              "142415              49.5       91.4            59.2  Company_997  Utilities   \n",
              "142416              49.5       91.4            59.2  Company_997  Utilities   \n",
              "\n",
              "         Region  Year CarbonEmissions WaterUsage EnergyConsumption  \n",
              "0       Oceania  2015       2314884.0  1446802.5        23148840.2  \n",
              "1       Oceania  2016       2207551.8  1379719.9        22075517.8  \n",
              "2       Oceania  2017       2416031.1  1510019.5        24160311.5  \n",
              "3       Oceania  2018       2448835.7  1530522.3        24488357.2  \n",
              "4       Oceania  2019       2478297.7  1548936.1        24782977.2  \n",
              "...         ...   ...             ...        ...               ...  \n",
              "142412   Africa  2021        410747.8   256717.4         4107477.9  \n",
              "142413   Africa  2022        445911.6   278694.8         4459116.3  \n",
              "142414   Africa  2023        428201.7   267626.1         4282017.2  \n",
              "142415   Africa  2024        427979.2   267487.0         4279792.1  \n",
              "142416   Africa  2025        439038.9   274399.3         4390388.8  \n",
              "\n",
              "[142417 rows x 24 columns]>"
            ],
            "text/html": [
              "<div style=\"max-width:800px; border: 1px solid var(--colab-border-color);\"><style>\n",
              "      pre.function-repr-contents {\n",
              "        overflow-x: auto;\n",
              "        padding: 8px 12px;\n",
              "        max-height: 500px;\n",
              "      }\n",
              "\n",
              "      pre.function-repr-contents.function-repr-contents-collapsed {\n",
              "        cursor: pointer;\n",
              "        max-height: 100px;\n",
              "      }\n",
              "    </style>\n",
              "    <pre style=\"white-space: initial; background:\n",
              "         var(--colab-secondary-surface-color); padding: 8px 12px;\n",
              "         border-bottom: 1px solid var(--colab-border-color);\"><b>pandas.core.frame.DataFrame.info</b><br/>def info(verbose: bool | None=None, buf: WriteBuffer[str] | None=None, max_cols: int | None=None, memory_usage: bool | str | None=None, show_counts: bool | None=None) -&gt; None</pre><pre class=\"function-repr-contents function-repr-contents-collapsed\" style=\"\"><a class=\"filepath\" style=\"display:none\" href=\"#\">/usr/local/lib/python3.11/dist-packages/pandas/core/frame.py</a>Print a concise summary of a DataFrame.\n",
              "\n",
              "This method prints information about a DataFrame including\n",
              "the index dtype and columns, non-null values and memory usage.\n",
              "\n",
              "Parameters\n",
              "----------\n",
              "verbose : bool, optional\n",
              "    Whether to print the full summary. By default, the setting in\n",
              "    ``pandas.options.display.max_info_columns`` is followed.\n",
              "buf : writable buffer, defaults to sys.stdout\n",
              "    Where to send the output. By default, the output is printed to\n",
              "    sys.stdout. Pass a writable buffer if you need to further process\n",
              "    the output.\n",
              "max_cols : int, optional\n",
              "    When to switch from the verbose to the truncated output. If the\n",
              "    DataFrame has more than `max_cols` columns, the truncated output\n",
              "    is used. By default, the setting in\n",
              "    ``pandas.options.display.max_info_columns`` is used.\n",
              "memory_usage : bool, str, optional\n",
              "    Specifies whether total memory usage of the DataFrame\n",
              "    elements (including the index) should be displayed. By default,\n",
              "    this follows the ``pandas.options.display.memory_usage`` setting.\n",
              "\n",
              "    True always show memory usage. False never shows memory usage.\n",
              "    A value of &#x27;deep&#x27; is equivalent to &quot;True with deep introspection&quot;.\n",
              "    Memory usage is shown in human-readable units (base-2\n",
              "    representation). Without deep introspection a memory estimation is\n",
              "    made based in column dtype and number of rows assuming values\n",
              "    consume the same memory amount for corresponding dtypes. With deep\n",
              "    memory introspection, a real memory usage calculation is performed\n",
              "    at the cost of computational resources. See the\n",
              "    :ref:`Frequently Asked Questions &lt;df-memory-usage&gt;` for more\n",
              "    details.\n",
              "show_counts : bool, optional\n",
              "    Whether to show the non-null counts. By default, this is shown\n",
              "    only if the DataFrame is smaller than\n",
              "    ``pandas.options.display.max_info_rows`` and\n",
              "    ``pandas.options.display.max_info_columns``. A value of True always\n",
              "    shows the counts, and False never shows the counts.\n",
              "\n",
              "Returns\n",
              "-------\n",
              "None\n",
              "    This method prints a summary of a DataFrame and returns None.\n",
              "\n",
              "See Also\n",
              "--------\n",
              "DataFrame.describe: Generate descriptive statistics of DataFrame\n",
              "    columns.\n",
              "DataFrame.memory_usage: Memory usage of DataFrame columns.\n",
              "\n",
              "Examples\n",
              "--------\n",
              "&gt;&gt;&gt; int_values = [1, 2, 3, 4, 5]\n",
              "&gt;&gt;&gt; text_values = [&#x27;alpha&#x27;, &#x27;beta&#x27;, &#x27;gamma&#x27;, &#x27;delta&#x27;, &#x27;epsilon&#x27;]\n",
              "&gt;&gt;&gt; float_values = [0.0, 0.25, 0.5, 0.75, 1.0]\n",
              "&gt;&gt;&gt; df = pd.DataFrame({&quot;int_col&quot;: int_values, &quot;text_col&quot;: text_values,\n",
              "...                   &quot;float_col&quot;: float_values})\n",
              "&gt;&gt;&gt; df\n",
              "    int_col text_col  float_col\n",
              "0        1    alpha       0.00\n",
              "1        2     beta       0.25\n",
              "2        3    gamma       0.50\n",
              "3        4    delta       0.75\n",
              "4        5  epsilon       1.00\n",
              "\n",
              "Prints information of all columns:\n",
              "\n",
              "&gt;&gt;&gt; df.info(verbose=True)\n",
              "&lt;class &#x27;pandas.core.frame.DataFrame&#x27;&gt;\n",
              "RangeIndex: 5 entries, 0 to 4\n",
              "Data columns (total 3 columns):\n",
              " #   Column     Non-Null Count  Dtype\n",
              "---  ------     --------------  -----\n",
              " 0   int_col    5 non-null      int64\n",
              " 1   text_col   5 non-null      object\n",
              " 2   float_col  5 non-null      float64\n",
              "dtypes: float64(1), int64(1), object(1)\n",
              "memory usage: 248.0+ bytes\n",
              "\n",
              "Prints a summary of columns count and its dtypes but not per column\n",
              "information:\n",
              "\n",
              "&gt;&gt;&gt; df.info(verbose=False)\n",
              "&lt;class &#x27;pandas.core.frame.DataFrame&#x27;&gt;\n",
              "RangeIndex: 5 entries, 0 to 4\n",
              "Columns: 3 entries, int_col to float_col\n",
              "dtypes: float64(1), int64(1), object(1)\n",
              "memory usage: 248.0+ bytes\n",
              "\n",
              "Pipe output of DataFrame.info to buffer instead of sys.stdout, get\n",
              "buffer content and writes to a text file:\n",
              "\n",
              "&gt;&gt;&gt; import io\n",
              "&gt;&gt;&gt; buffer = io.StringIO()\n",
              "&gt;&gt;&gt; df.info(buf=buffer)\n",
              "&gt;&gt;&gt; s = buffer.getvalue()\n",
              "&gt;&gt;&gt; with open(&quot;df_info.txt&quot;, &quot;w&quot;,\n",
              "...           encoding=&quot;utf-8&quot;) as f:  # doctest: +SKIP\n",
              "...     f.write(s)\n",
              "260\n",
              "\n",
              "The `memory_usage` parameter allows deep introspection mode, specially\n",
              "useful for big DataFrames and fine-tune memory optimization:\n",
              "\n",
              "&gt;&gt;&gt; random_strings_array = np.random.choice([&#x27;a&#x27;, &#x27;b&#x27;, &#x27;c&#x27;], 10 ** 6)\n",
              "&gt;&gt;&gt; df = pd.DataFrame({\n",
              "...     &#x27;column_1&#x27;: np.random.choice([&#x27;a&#x27;, &#x27;b&#x27;, &#x27;c&#x27;], 10 ** 6),\n",
              "...     &#x27;column_2&#x27;: np.random.choice([&#x27;a&#x27;, &#x27;b&#x27;, &#x27;c&#x27;], 10 ** 6),\n",
              "...     &#x27;column_3&#x27;: np.random.choice([&#x27;a&#x27;, &#x27;b&#x27;, &#x27;c&#x27;], 10 ** 6)\n",
              "... })\n",
              "&gt;&gt;&gt; df.info()\n",
              "&lt;class &#x27;pandas.core.frame.DataFrame&#x27;&gt;\n",
              "RangeIndex: 1000000 entries, 0 to 999999\n",
              "Data columns (total 3 columns):\n",
              " #   Column    Non-Null Count    Dtype\n",
              "---  ------    --------------    -----\n",
              " 0   column_1  1000000 non-null  object\n",
              " 1   column_2  1000000 non-null  object\n",
              " 2   column_3  1000000 non-null  object\n",
              "dtypes: object(3)\n",
              "memory usage: 22.9+ MB\n",
              "\n",
              "&gt;&gt;&gt; df.info(memory_usage=&#x27;deep&#x27;)\n",
              "&lt;class &#x27;pandas.core.frame.DataFrame&#x27;&gt;\n",
              "RangeIndex: 1000000 entries, 0 to 999999\n",
              "Data columns (total 3 columns):\n",
              " #   Column    Non-Null Count    Dtype\n",
              "---  ------    --------------    -----\n",
              " 0   column_1  1000000 non-null  object\n",
              " 1   column_2  1000000 non-null  object\n",
              " 2   column_3  1000000 non-null  object\n",
              "dtypes: object(3)\n",
              "memory usage: 165.9 MB</pre>\n",
              "      <script>\n",
              "      if (google.colab.kernel.accessAllowed && google.colab.files && google.colab.files.view) {\n",
              "        for (const element of document.querySelectorAll('.filepath')) {\n",
              "          element.style.display = 'block'\n",
              "          element.onclick = (event) => {\n",
              "            event.preventDefault();\n",
              "            event.stopPropagation();\n",
              "            google.colab.files.view(element.textContent, 3646);\n",
              "          };\n",
              "        }\n",
              "      }\n",
              "      for (const element of document.querySelectorAll('.function-repr-contents')) {\n",
              "        element.onclick = (event) => {\n",
              "          event.preventDefault();\n",
              "          event.stopPropagation();\n",
              "          element.classList.toggle('function-repr-contents-collapsed');\n",
              "        };\n",
              "      }\n",
              "      </script>\n",
              "      </div>"
            ]
          },
          "metadata": {},
          "execution_count": 4
        }
      ]
    },
    {
      "cell_type": "markdown",
      "source": [
        "# 第四題、刪除特定資料(5%)\n",
        "#### 因此資料皆為2025年的資料，所以「資料集Company_ESG」中的year皆相同，無區別性，故請用drop()將此year刪除，並存回「資料集Company_ESG」的year中"
      ],
      "metadata": {
        "id": "Oyzg5pRjqk0L"
      }
    },
    {
      "cell_type": "code",
      "source": [
        "Company_ESG.drop(columns=['Year'], axis=1, inplace=True)  # 刪掉 year，結果回寫到原 DataFrame\n",
        "print(Company_ESG.head())"
      ],
      "metadata": {
        "colab": {
          "base_uri": "https://localhost:8080/"
        },
        "id": "kS_5N8cCXqX9",
        "outputId": "49160ad9-6e80-41d0-e75d-e0bd737eca18"
      },
      "execution_count": null,
      "outputs": [
        {
          "output_type": "stream",
          "name": "stdout",
          "text": [
            "   CompanyID CompanyName_x Industry_x Region_x  Year_x  Revenue  ProfitMargin  \\\n",
            "0         17    Company_17  Utilities  Oceania    2015   3577.1          12.7   \n",
            "1         17    Company_17  Utilities  Oceania    2015   3577.1          12.7   \n",
            "2         17    Company_17  Utilities  Oceania    2015   3577.1          12.7   \n",
            "3         17    Company_17  Utilities  Oceania    2015   3577.1          12.7   \n",
            "4         17    Company_17  Utilities  Oceania    2015   3577.1          12.7   \n",
            "\n",
            "   MarketCap  GrowthRate CompanyName_y  ... ESG_Overall ESG_Environmental  \\\n",
            "0     3876.1         NaN    Company_17  ...        62.9              55.9   \n",
            "1     3876.1         NaN    Company_17  ...        62.9              55.9   \n",
            "2     3876.1         NaN    Company_17  ...        62.9              55.9   \n",
            "3     3876.1         NaN    Company_17  ...        62.9              55.9   \n",
            "4     3876.1         NaN    Company_17  ...        62.9              55.9   \n",
            "\n",
            "   ESG_Social  ESG_Governance  CompanyName   Industry   Region  \\\n",
            "0        87.3            45.4   Company_17  Utilities  Oceania   \n",
            "1        87.3            45.4   Company_17  Utilities  Oceania   \n",
            "2        87.3            45.4   Company_17  Utilities  Oceania   \n",
            "3        87.3            45.4   Company_17  Utilities  Oceania   \n",
            "4        87.3            45.4   Company_17  Utilities  Oceania   \n",
            "\n",
            "  CarbonEmissions WaterUsage EnergyConsumption  \n",
            "0       2314884.0  1446802.5        23148840.2  \n",
            "1       2207551.8  1379719.9        22075517.8  \n",
            "2       2416031.1  1510019.5        24160311.5  \n",
            "3       2448835.7  1530522.3        24488357.2  \n",
            "4       2478297.7  1548936.1        24782977.2  \n",
            "\n",
            "[5 rows x 23 columns]\n"
          ]
        }
      ]
    },
    {
      "cell_type": "markdown",
      "source": [
        "# 第五題、欄位名稱變更及重新定義資料集索引(10%)\n",
        "#### (1)請用rename將「CompanyID」更名為「ID」，以及「CarbonEmissions」更名為「CO2排放量」，並存回「資料集Company_ESG」中\n",
        "#### (2)請用set_index將ID定義為「資料集Company_ESG」的索引\n"
      ],
      "metadata": {
        "id": "8utGOJWFsJ_X"
      }
    },
    {
      "cell_type": "code",
      "source": [
        "Company_ESG.rename(columns={\n",
        "  'CompanyID':'ID',\n",
        "  'CarbonEmissions':'CO2排放量'\n",
        "},inplace=True)\n",
        "\n",
        "print(Company_ESG.head())\n",
        "\n",
        "Company_ESG.set_index('ID',inplace=True)\n",
        "print(Company_ESG.head())"
      ],
      "metadata": {
        "colab": {
          "base_uri": "https://localhost:8080/"
        },
        "id": "rtGKHlSoaOpr",
        "outputId": "bbbdc981-3d1f-4c2e-d1bc-d854e121c4a1"
      },
      "execution_count": null,
      "outputs": [
        {
          "output_type": "stream",
          "name": "stdout",
          "text": [
            "   ID CompanyName_x Industry_x Region_x  Year_x  Revenue  ProfitMargin  \\\n",
            "0  17    Company_17  Utilities  Oceania    2015   3577.1          12.7   \n",
            "1  17    Company_17  Utilities  Oceania    2015   3577.1          12.7   \n",
            "2  17    Company_17  Utilities  Oceania    2015   3577.1          12.7   \n",
            "3  17    Company_17  Utilities  Oceania    2015   3577.1          12.7   \n",
            "4  17    Company_17  Utilities  Oceania    2015   3577.1          12.7   \n",
            "\n",
            "   MarketCap  GrowthRate CompanyName_y  ... ESG_Overall ESG_Environmental  \\\n",
            "0     3876.1         NaN    Company_17  ...        62.9              55.9   \n",
            "1     3876.1         NaN    Company_17  ...        62.9              55.9   \n",
            "2     3876.1         NaN    Company_17  ...        62.9              55.9   \n",
            "3     3876.1         NaN    Company_17  ...        62.9              55.9   \n",
            "4     3876.1         NaN    Company_17  ...        62.9              55.9   \n",
            "\n",
            "   ESG_Social  ESG_Governance  CompanyName   Industry   Region     CO2排放量  \\\n",
            "0        87.3            45.4   Company_17  Utilities  Oceania  2314884.0   \n",
            "1        87.3            45.4   Company_17  Utilities  Oceania  2207551.8   \n",
            "2        87.3            45.4   Company_17  Utilities  Oceania  2416031.1   \n",
            "3        87.3            45.4   Company_17  Utilities  Oceania  2448835.7   \n",
            "4        87.3            45.4   Company_17  Utilities  Oceania  2478297.7   \n",
            "\n",
            "  WaterUsage EnergyConsumption  \n",
            "0  1446802.5        23148840.2  \n",
            "1  1379719.9        22075517.8  \n",
            "2  1510019.5        24160311.5  \n",
            "3  1530522.3        24488357.2  \n",
            "4  1548936.1        24782977.2  \n",
            "\n",
            "[5 rows x 23 columns]\n",
            "   CompanyName_x Industry_x Region_x  Year_x  Revenue  ProfitMargin  \\\n",
            "ID                                                                    \n",
            "17    Company_17  Utilities  Oceania    2015   3577.1          12.7   \n",
            "17    Company_17  Utilities  Oceania    2015   3577.1          12.7   \n",
            "17    Company_17  Utilities  Oceania    2015   3577.1          12.7   \n",
            "17    Company_17  Utilities  Oceania    2015   3577.1          12.7   \n",
            "17    Company_17  Utilities  Oceania    2015   3577.1          12.7   \n",
            "\n",
            "    MarketCap  GrowthRate CompanyName_y Industry_y  ... ESG_Overall  \\\n",
            "ID                                                  ...               \n",
            "17     3876.1         NaN    Company_17  Utilities  ...        62.9   \n",
            "17     3876.1         NaN    Company_17  Utilities  ...        62.9   \n",
            "17     3876.1         NaN    Company_17  Utilities  ...        62.9   \n",
            "17     3876.1         NaN    Company_17  Utilities  ...        62.9   \n",
            "17     3876.1         NaN    Company_17  Utilities  ...        62.9   \n",
            "\n",
            "    ESG_Environmental  ESG_Social  ESG_Governance  CompanyName   Industry  \\\n",
            "ID                                                                          \n",
            "17               55.9        87.3            45.4   Company_17  Utilities   \n",
            "17               55.9        87.3            45.4   Company_17  Utilities   \n",
            "17               55.9        87.3            45.4   Company_17  Utilities   \n",
            "17               55.9        87.3            45.4   Company_17  Utilities   \n",
            "17               55.9        87.3            45.4   Company_17  Utilities   \n",
            "\n",
            "     Region     CO2排放量 WaterUsage  EnergyConsumption  \n",
            "ID                                                    \n",
            "17  Oceania  2314884.0  1446802.5         23148840.2  \n",
            "17  Oceania  2207551.8  1379719.9         22075517.8  \n",
            "17  Oceania  2416031.1  1510019.5         24160311.5  \n",
            "17  Oceania  2448835.7  1530522.3         24488357.2  \n",
            "17  Oceania  2478297.7  1548936.1         24782977.2  \n",
            "\n",
            "[5 rows x 22 columns]\n"
          ]
        }
      ]
    },
    {
      "cell_type": "markdown",
      "source": [
        "# 第六題、資料排序(5%)\n",
        "#### 請將「資料集Company_ESG」的資料依ESG_Overall大小由大至小排序，並將排序結果回存至「資料集Company_ESG」中"
      ],
      "metadata": {
        "id": "2FV5WpQ-y_Ni"
      }
    },
    {
      "cell_type": "code",
      "source": [
        "Company_ESG.sort_values(by='ESG_Overall',ascending=False,inplace=True)\n",
        "print(Company_ESG.head())"
      ],
      "metadata": {
        "colab": {
          "base_uri": "https://localhost:8080/"
        },
        "id": "hb9vVqJKcv5U",
        "outputId": "5fd51fe2-698f-4af2-800c-03285fd7711c"
      },
      "execution_count": null,
      "outputs": [
        {
          "output_type": "stream",
          "name": "stdout",
          "text": [
            "    CompanyName_x Industry_x       Region_x  Year_x  Revenue  ProfitMargin  \\\n",
            "ID                                                                           \n",
            "215   Company_215  Utilities  North America    2019   1080.1           6.5   \n",
            "215   Company_215  Utilities  North America    2019   1080.1           6.5   \n",
            "215   Company_215  Utilities  North America    2023   1126.4           5.5   \n",
            "215   Company_215  Utilities  North America    2025   1104.4           6.3   \n",
            "215   Company_215  Utilities  North America    2022   1146.6           5.9   \n",
            "\n",
            "     MarketCap  GrowthRate CompanyName_y Industry_y  ... ESG_Overall  \\\n",
            "ID                                                   ...               \n",
            "215      595.3        -0.8   Company_215  Utilities  ...        93.4   \n",
            "215      595.3        -0.8   Company_215  Utilities  ...        93.4   \n",
            "215      880.4        -1.8   Company_215  Utilities  ...        93.4   \n",
            "215      875.5        -1.7   Company_215  Utilities  ...        93.4   \n",
            "215      936.5         1.5   Company_215  Utilities  ...        93.4   \n",
            "\n",
            "     ESG_Environmental  ESG_Social  ESG_Governance  CompanyName   Industry  \\\n",
            "ID                                                                           \n",
            "215               83.6        96.6           100.0  Company_215  Utilities   \n",
            "215               83.6        96.6           100.0  Company_215  Utilities   \n",
            "215               83.6        96.6           100.0  Company_215  Utilities   \n",
            "215               83.6        96.6           100.0  Company_215  Utilities   \n",
            "215               83.6        96.6           100.0  Company_215  Utilities   \n",
            "\n",
            "            Region    CO2排放量 WaterUsage  EnergyConsumption  \n",
            "ID                                                          \n",
            "215  North America  530034.8   331271.8          5300348.1  \n",
            "215  North America  553001.4   345625.9          5530014.1  \n",
            "215  North America  554247.5   346404.7          5542474.7  \n",
            "215  North America  609199.3   380749.6          6091993.0  \n",
            "215  North America  554247.5   346404.7          5542474.7  \n",
            "\n",
            "[5 rows x 22 columns]\n"
          ]
        }
      ]
    },
    {
      "cell_type": "markdown",
      "source": [
        "# 第七題、重新定義變數涵意及新增變數(18% = 3% + 10% + 5%)\n",
        "#### (1)建立一個空的list變數(New_Group)\n",
        "#### (2)利用for迴圈及ifelse判斷式將「資料集Company_ESG」中的ESG_Overall重新定義成3組別：\n",
        "- 小於60分(不含60)\n",
        "- 60-80分(不含80)\n",
        "- 80分以上\n",
        "\n",
        "#### (3)在「資料集Company_ESG」中新增一個欄位為「ESG成績分組」。"
      ],
      "metadata": {
        "id": "kXmLaZd3tk1i"
      }
    },
    {
      "cell_type": "code",
      "source": [
        "Nes_Group=[]\n",
        "for score in Company_ESG['ESG_Overall']:\n",
        "  if score<60:\n",
        "    Nes_Group.append('低於60分')\n",
        "  elif score<80:\n",
        "    Nes_Group.append('60-80分')\n",
        "  else:\n",
        "    Nes_Group.append('80分以上')\n",
        "\n",
        "Company_ESG['ESG成績分組']=Nes_Group\n",
        "print(Company_ESG.head())\n",
        "\n",
        "\n"
      ],
      "metadata": {
        "colab": {
          "base_uri": "https://localhost:8080/"
        },
        "id": "r4LuP3pWhkIV",
        "outputId": "16bab4e8-2146-450c-8c42-a45c6281cb1c"
      },
      "execution_count": null,
      "outputs": [
        {
          "output_type": "stream",
          "name": "stdout",
          "text": [
            "    CompanyName_x Industry_x       Region_x  Year_x  Revenue  ProfitMargin  \\\n",
            "ID                                                                           \n",
            "215   Company_215  Utilities  North America    2019   1080.1           6.5   \n",
            "215   Company_215  Utilities  North America    2019   1080.1           6.5   \n",
            "215   Company_215  Utilities  North America    2023   1126.4           5.5   \n",
            "215   Company_215  Utilities  North America    2025   1104.4           6.3   \n",
            "215   Company_215  Utilities  North America    2022   1146.6           5.9   \n",
            "\n",
            "     MarketCap  GrowthRate CompanyName_y Industry_y  ... ESG_Environmental  \\\n",
            "ID                                                   ...                     \n",
            "215      595.3        -0.8   Company_215  Utilities  ...              83.6   \n",
            "215      595.3        -0.8   Company_215  Utilities  ...              83.6   \n",
            "215      880.4        -1.8   Company_215  Utilities  ...              83.6   \n",
            "215      875.5        -1.7   Company_215  Utilities  ...              83.6   \n",
            "215      936.5         1.5   Company_215  Utilities  ...              83.6   \n",
            "\n",
            "     ESG_Social  ESG_Governance  CompanyName   Industry         Region  \\\n",
            "ID                                                                       \n",
            "215        96.6           100.0  Company_215  Utilities  North America   \n",
            "215        96.6           100.0  Company_215  Utilities  North America   \n",
            "215        96.6           100.0  Company_215  Utilities  North America   \n",
            "215        96.6           100.0  Company_215  Utilities  North America   \n",
            "215        96.6           100.0  Company_215  Utilities  North America   \n",
            "\n",
            "       CO2排放量 WaterUsage EnergyConsumption  ESG成績分組  \n",
            "ID                                                   \n",
            "215  530034.8   331271.8         5300348.1    80分以上  \n",
            "215  553001.4   345625.9         5530014.1    80分以上  \n",
            "215  554247.5   346404.7         5542474.7    80分以上  \n",
            "215  609199.3   380749.6         6091993.0    80分以上  \n",
            "215  554247.5   346404.7         5542474.7    80分以上  \n",
            "\n",
            "[5 rows x 23 columns]\n"
          ]
        }
      ]
    },
    {
      "cell_type": "markdown",
      "source": [
        "# 第八題、資料篩選(loc)(10%)\n",
        "#### 依分組名單中的主題選取符合主題條件的列資料，以及須保留以下欄位，並另存成「資料集ESG_NumericData」：\n",
        "1. ESG_Overall\n",
        "2. ESG_Environmental\n",
        "3. ESG_Social\n",
        "4. ESG_Governance\n",
        "5. CO2排放量\n",
        "6. WaterUsage\n",
        "7. EnergyConsumption"
      ],
      "metadata": {
        "id": "WAvI9X2R0kPf"
      }
    },
    {
      "cell_type": "code",
      "source": [
        "ESG_NumericData=Company_ESG[[\"ESG_Overall\",\"ESG_Environmental\",\"ESG_Social\",\"ESG_Governance\",\"CO2排放量\",\"WaterUsage\",\"EnergyConsumption\"]]\n",
        "print(ESG_NumericData)"
      ],
      "metadata": {
        "id": "VB8QOjbqVoMj",
        "colab": {
          "base_uri": "https://localhost:8080/"
        },
        "outputId": "16b0c07e-2f1c-4edd-ea8c-491144cd515f"
      },
      "execution_count": null,
      "outputs": [
        {
          "output_type": "stream",
          "name": "stdout",
          "text": [
            "     ESG_Overall  ESG_Environmental  ESG_Social  ESG_Governance    CO2排放量  \\\n",
            "ID                                                                          \n",
            "215         93.4               83.6        96.6           100.0  530034.8   \n",
            "215         93.4               83.6        96.6           100.0  553001.4   \n",
            "215         93.4               83.6        96.6           100.0  554247.5   \n",
            "215         93.4               83.6        96.6           100.0  609199.3   \n",
            "215         93.4               83.6        96.6           100.0  554247.5   \n",
            "..           ...                ...         ...             ...       ...   \n",
            "648         17.1                5.8        11.9            33.5  238764.1   \n",
            "648         17.1                5.8        11.9            33.5  257047.1   \n",
            "648         17.1                5.8        11.9            33.5  239204.4   \n",
            "648         17.1                5.8        11.9            33.5  264247.4   \n",
            "648         17.1                5.8        11.9            33.5  257102.1   \n",
            "\n",
            "     WaterUsage  EnergyConsumption  \n",
            "ID                                  \n",
            "215    331271.8          5300348.1  \n",
            "215    345625.9          5530014.1  \n",
            "215    346404.7          5542474.7  \n",
            "215    380749.6          6091993.0  \n",
            "215    346404.7          5542474.7  \n",
            "..          ...                ...  \n",
            "648    149227.6          2387641.4  \n",
            "648    160654.4          2570471.1  \n",
            "648    149502.7          2392043.7  \n",
            "648    165154.6          2642474.2  \n",
            "648    160688.8          2571020.6  \n",
            "\n",
            "[142417 rows x 7 columns]\n"
          ]
        }
      ]
    },
    {
      "cell_type": "markdown",
      "source": [
        "# 第九題、計算統計量(10% = 4% + 3% + 3%)\n",
        "#### 請以「資料集ESG_NumericData」計算：\n",
        "1. 所有欄位個別的平均數、標準差\n",
        "2. EnergyConsumption的中位數\n",
        "3. 所有變數的變異係數矩陣"
      ],
      "metadata": {
        "id": "3mPq5SCE6ySq"
      }
    },
    {
      "cell_type": "code",
      "source": [
        "# 1.計算各欄位的平均數與標準差\n",
        "means = ESG_NumericData.mean()\n",
        "stds  = ESG_NumericData.std()\n",
        "\n",
        "# 2.計算 EnergyConsumption 的中位數\n",
        "median_ec = ESG_NumericData['EnergyConsumption'].median()\n",
        "\n",
        "# 3.計算變異係數（CV = 標準差 / 平均數）\n",
        "cv = stds / means\n",
        "cv_matrix = pd.DataFrame(cv, columns=['變異係數'])\n",
        "\n",
        "# -----------------------------------------------------------------------------\n",
        "# 4. 輸出結果\n",
        "print(\"各欄位平均數：\")\n",
        "print(means, end=\"\\n\\n\")\n",
        "\n",
        "print(\"各欄位標準差：\")\n",
        "print(stds, end=\"\\n\\n\")\n",
        "\n",
        "print(f\"EnergyConsumption 中位數：{median_ec}\\n\")\n",
        "\n",
        "print(\"各欄位變異係數矩陣：\")\n",
        "print(cv_matrix)"
      ],
      "metadata": {
        "colab": {
          "base_uri": "https://localhost:8080/"
        },
        "id": "tZ-B_VtGec1Z",
        "outputId": "de706012-4e40-4d83-f96c-ff33b0358812"
      },
      "execution_count": null,
      "outputs": [
        {
          "output_type": "stream",
          "name": "stdout",
          "text": [
            "各欄位平均數：\n",
            "ESG_Overall          5.160127e+01\n",
            "ESG_Environmental    4.617621e+01\n",
            "ESG_Social           5.675251e+01\n",
            "ESG_Governance       5.187111e+01\n",
            "CO2排放量               8.693411e+05\n",
            "WaterUsage           5.433382e+05\n",
            "EnergyConsumption    8.693411e+06\n",
            "dtype: float64\n",
            "\n",
            "各欄位標準差：\n",
            "ESG_Overall          1.451933e+01\n",
            "ESG_Environmental    2.031531e+01\n",
            "ESG_Social           2.307815e+01\n",
            "ESG_Governance       2.473131e+01\n",
            "CO2排放量               5.911390e+05\n",
            "WaterUsage           3.694619e+05\n",
            "EnergyConsumption    5.911390e+06\n",
            "dtype: float64\n",
            "\n",
            "EnergyConsumption 中位數：7000452.7\n",
            "\n",
            "各欄位變異係數矩陣：\n",
            "                       變異係數\n",
            "ESG_Overall        0.281375\n",
            "ESG_Environmental  0.439952\n",
            "ESG_Social         0.406645\n",
            "ESG_Governance     0.476784\n",
            "CO2排放量             0.679985\n",
            "WaterUsage         0.679985\n",
            "EnergyConsumption  0.679985\n"
          ]
        }
      ]
    },
    {
      "cell_type": "markdown",
      "source": [
        "# 第十題、資料分組(groupby或pivot_table)(10% = 4% + 2% + 2% + 2%)\n",
        "#### 請以「資料集Company_ESG」的「ESG成績分組」欄位進行分組，分別計算各組之資料筆數及最大、最小值"
      ],
      "metadata": {
        "id": "EjLF5X9o8QVG"
      }
    },
    {
      "cell_type": "code",
      "source": [
        "grouped = (\n",
        "    Company_ESG\n",
        "        .groupby('ESG成績分組')          # ← 分組依據\n",
        "        .agg(\n",
        "            筆數   = ('ESG成績分組', 'size'),  # 計算每組筆數\n",
        "            最大值 = ('ESG成績分組', 'max'),   # 每組最大 ESG 成績\n",
        "            最小值 = ('ESG成績分組', 'min')    # 每組最小 ESG 成績\n",
        "        )\n",
        "        .reset_index()                    # 如果想把索引變回一般欄位\n",
        ")\n",
        "\n",
        "print(grouped)"
      ],
      "metadata": {
        "colab": {
          "base_uri": "https://localhost:8080/"
        },
        "id": "-8-Ka1E26olf",
        "outputId": "c1dcd27e-07f0-4348-d396-066fd3f1440f"
      },
      "execution_count": null,
      "outputs": [
        {
          "output_type": "stream",
          "name": "stdout",
          "text": [
            "  ESG成績分組      筆數     最大值     最小值\n",
            "0  60-80分   35574  60-80分  60-80分\n",
            "1   80分以上    3751   80分以上   80分以上\n",
            "2   低於60分  103092   低於60分   低於60分\n"
          ]
        }
      ]
    },
    {
      "cell_type": "markdown",
      "source": [
        "# 第十一題、請以「資料集Company_ESG」繪製以下統計圖表：(20%)\n",
        "1. ESG_Environmental的直方圖\n",
        "2. 以「Industry」為分組依據，ESG_Overall的盒形圖\n",
        "3. 以第十題中的「ESG成績分組」資料筆數的圓餅圖\n",
        "4. 「Revenue」及「EnergyConsumption」兩變數的散佈圖\n"
      ],
      "metadata": {
        "id": "xMMsGK1q-Cqz"
      }
    },
    {
      "cell_type": "code",
      "source": [
        "import matplotlib.pyplot as plt\n",
        "\n",
        "# 1. ESG_Environmental 的直方圖\n",
        "plt.figure(figsize=(8, 6))\n",
        "plt.hist(Company_ESG['ESG_Environmental'], bins=20, edgecolor='black')\n",
        "plt.title('ESG Environmental Histogram')\n",
        "plt.xlabel('ESG Environmental Score')\n",
        "plt.ylabel('Frequency')\n",
        "plt.show()\n",
        "\n",
        "# 2. 以 Industry 分組的 ESG_Overall 盒形圖\n",
        "plt.figure(figsize=(10, 6))\n",
        "Company_ESG.boxplot(column='ESG_Overall', by='Industry')\n",
        "plt.title('ESG Overall Scores by Industry')\n",
        "plt.suptitle('')           # 移掉預設的主標題\n",
        "plt.xlabel('Industry')\n",
        "plt.ylabel('ESG Overall Score')\n",
        "plt.xticks(rotation=45)    # 旋轉 x 軸標籤\n",
        "plt.show()\n",
        "\n",
        "# 3. 第十題中「ESG成績分組」的筆數圓餅圖\n",
        "counts = Company_ESG['ESG成績分組'].value_counts()\n",
        "plt.figure(figsize=(6, 6))\n",
        "plt.pie(\n",
        "    counts,\n",
        "    labels=counts.index,\n",
        "    autopct='%1.1f%%',\n",
        "    startangle=90\n",
        ")\n",
        "plt.title('Distribution of ESG 成績分組')\n",
        "plt.axis('equal')          # 保持長寬比為 1:1\n",
        "plt.show()\n",
        "\n",
        "# 4. Revenue vs. EnergyConsumption 散佈圖\n",
        "plt.figure(figsize=(8, 6))\n",
        "plt.scatter(\n",
        "    Company_ESG['Revenue'],\n",
        "    Company_ESG['EnergyConsumption']\n",
        ")\n",
        "plt.title('Revenue vs Energy Consumption')\n",
        "plt.xlabel('Revenue')\n",
        "plt.ylabel('Energy Consumption')\n",
        "plt.show()\n"
      ],
      "metadata": {
        "colab": {
          "base_uri": "https://localhost:8080/",
          "height": 1000
        },
        "id": "LurdHTE-8e2o",
        "outputId": "10bad322-f538-40ff-eef3-31c9d0f59d4d"
      },
      "execution_count": null,
      "outputs": [
        {
          "output_type": "display_data",
          "data": {
            "text/plain": [
              "<Figure size 800x600 with 1 Axes>"
            ],
            "image/png": "[encoded data removed]"
          },
          "metadata": {}
        },
        {
          "output_type": "display_data",
          "data": {
            "text/plain": [
              "<Figure size 1000x600 with 0 Axes>"
            ]
          },
          "metadata": {}
        },
        {
          "output_type": "display_data",
          "data": {
            "text/plain": [
              "<Figure size 640x480 with 1 Axes>"
            ],
            "image/png": "[encoded data removed]"
          },
          "metadata": {}
        },
        {
          "output_type": "stream",
          "name": "stderr",
          "text": [
            "/usr/local/lib/python3.11/dist-packages/IPython/core/pylabtools.py:151: UserWarning: Glyph 25104 (\\N{CJK UNIFIED IDEOGRAPH-6210}) missing from font(s) DejaVu Sans.\n",
            "  fig.canvas.print_figure(bytes_io, **kw)\n",
            "/usr/local/lib/python3.11/dist-packages/IPython/core/pylabtools.py:151: UserWarning: Glyph 32318 (\\N{CJK UNIFIED IDEOGRAPH-7E3E}) missing from font(s) DejaVu Sans.\n",
            "  fig.canvas.print_figure(bytes_io, **kw)\n",
            "/usr/local/lib/python3.11/dist-packages/IPython/core/pylabtools.py:151: UserWarning: Glyph 20998 (\\N{CJK UNIFIED IDEOGRAPH-5206}) missing from font(s) DejaVu Sans.\n",
            "  fig.canvas.print_figure(bytes_io, **kw)\n",
            "/usr/local/lib/python3.11/dist-packages/IPython/core/pylabtools.py:151: UserWarning: Glyph 32068 (\\N{CJK UNIFIED IDEOGRAPH-7D44}) missing from font(s) DejaVu Sans.\n",
            "  fig.canvas.print_figure(bytes_io, **kw)\n",
            "/usr/local/lib/python3.11/dist-packages/IPython/core/pylabtools.py:151: UserWarning: Glyph 20302 (\\N{CJK UNIFIED IDEOGRAPH-4F4E}) missing from font(s) DejaVu Sans.\n",
            "  fig.canvas.print_figure(bytes_io, **kw)\n",
            "/usr/local/lib/python3.11/dist-packages/IPython/core/pylabtools.py:151: UserWarning: Glyph 26044 (\\N{CJK UNIFIED IDEOGRAPH-65BC}) missing from font(s) DejaVu Sans.\n",
            "  fig.canvas.print_figure(bytes_io, **kw)\n",
            "/usr/local/lib/python3.11/dist-packages/IPython/core/pylabtools.py:151: UserWarning: Glyph 20197 (\\N{CJK UNIFIED IDEOGRAPH-4EE5}) missing from font(s) DejaVu Sans.\n",
            "  fig.canvas.print_figure(bytes_io, **kw)\n",
            "/usr/local/lib/python3.11/dist-packages/IPython/core/pylabtools.py:151: UserWarning: Glyph 19978 (\\N{CJK UNIFIED IDEOGRAPH-4E0A}) missing from font(s) DejaVu Sans.\n",
            "  fig.canvas.print_figure(bytes_io, **kw)\n"
          ]
        },
        {
          "output_type": "display_data",
          "data": {
            "text/plain": [
              "<Figure size 600x600 with 1 Axes>"
            ],
            "image/png": "[encoded data removed]"
          },
          "metadata": {}
        },
        {
          "output_type": "display_data",
          "data": {
            "text/plain": [
              "<Figure size 800x600 with 1 Axes>"
            ],
            "image/png": "[encoded data removed]"
          },
          "metadata": {}
        }
      ]
    }
  ]
}